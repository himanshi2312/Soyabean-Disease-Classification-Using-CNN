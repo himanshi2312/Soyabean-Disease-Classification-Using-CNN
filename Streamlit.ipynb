
# Load the trained model
model = load_model("best_model.keras")

# Define a function to preprocess the image
def preprocess_image(image):
    # Resize the image to match the input size of the model
    image = image.resize((224, 224))
    # Convert the image to a numpy array
    img_array = np.asarray(image)
    # Normalize pixel values
    img_array = img_array / 255.0
    # Expand the dimensions to create a batch dimension
    img_array = np.expand_dims(img_array, axis=0)
    return img_array

# Streamlit app
st.title("Plant Disease Detection")

# Upload an image
uploaded_file = st.file_uploader("Choose an image...", type=["jpg", "jpeg", "png"])

if uploaded_file is not None:
    # Display the uploaded image
    image = Image.open(uploaded_file)
    st.image(image, caption="Uploaded Image", use_column_width=True)

    # Preprocess the image
    processed_image = preprocess_image(image)

    # Make predictions
    prediction = model.predict(processed_image)
    # Assuming your model outputs probabilities for each class
    # You can customize the output based on your model's architecture
    st.write("Predicted probabilities:", prediction)
